{
 "cells": [
  {
   "cell_type": "markdown",
   "metadata": {},
   "source": [
    "# 내 생일의 기온을 그래프로 시각화\n",
    "\n",
    "## 생년월일 0000-00-00 양식으로 입력\n",
    "#### (해당 양식으로 입력하지 않거나 잘못된 값을 입력하면 다시 입력하게 함)\n",
    "####  \n",
    "\n",
    "내가 태어난 년도부터 현재 년도까지의 생일의 최고기온(빨간색), 최저기온(파란색)을 보여줌\n",
    "\n",
    "X축은 년도를 의미하고 Y축은 해당 날짜의 기온을 의미함"
   ]
  },
  {
   "cell_type": "code",
   "execution_count": null,
   "metadata": {},
   "outputs": [
    {
     "name": "stdout",
     "output_type": "stream",
     "text": [
      "생년월일을 입력하세요. 예시) 2022-09-28 >>1900-12-06\n",
      "다시입력2\n"
     ]
    }
   ],
   "source": [
    "from datetime import date, datetime\n",
    "from datetime import timedelta\n",
    "while 1:\n",
    "    try:\n",
    "        birth = input('생년월일을 입력하세요. 예시) 2022-09-28 >>')\n",
    "        validDate = birth.replace('-0','-')\n",
    "        if birth[-1] == '\\n' or len(birth)==10:\n",
    "            if(int(birth.split('-')[0])>1903 and int(birth.split('-')[0])<=datetime.today().year):\n",
    "                    try:\n",
    "                        date(int(validDate.split('-')[0]), int(validDate.split('-')[1]), int(validDate.split('-')[2]))\n",
    "                    except:\n",
    "                        print(\"다시입력1\")\n",
    "                        continue\n",
    "            else:\n",
    "                print(\"다시입력2\")\n",
    "                continue\n",
    "            break;\n",
    "        else:\n",
    "            print(\"다시입력3\")\n",
    "    except:\n",
    "        print(\"다시입력4\")\n",
    "import csv\n",
    "import matplotlib.pyplot as plt \n",
    "\n",
    "f = open(\"./data/seoul.csv\")\n",
    "data = csv.reader(f)\n",
    "next(data)\n",
    "\n",
    "res_high = []\n",
    "res_low = []\n",
    "date_high_low = []\n",
    "\n",
    "for row in data:\n",
    "    if row[0].split('-')[-2]+\"-\"+row[0].split('-')[-1] ==birth.split('-')[1]+\"-\"+birth.split('-')[2] and row[-1] != '' and row[-2] != '' and int(row[0].split('-')[0])>=int(birth.split('-')[0]):\n",
    "        res_high.append(row[-1]) #최고기온\n",
    "        res_low.append(row[-2]) # 최저기온\n",
    "        date_high_low.append(row[0]) #날짜\n",
    "f.close()\n",
    "\n",
    "print(\"\\n\\033[1m내 생일의 최고 기온\"+'\\033[0m')\n",
    "dates = date_high_low\n",
    "values = range(len(dates))\n",
    "plt.figure(figsize=(15, 8))\n",
    "plt.plot(values, res_high, \"r\", marker=\"o\")\n",
    "plt.xticks(values,dates)\n",
    "plt.xticks(rotation=45)\n",
    "plt.grid(True)\n",
    "plt.title(\"The highest temperature on my birthday\")\n",
    "plt.show()\n",
    "\n",
    "\n",
    "print(\"\\033[1m내 생일의 최저 기온\"+'\\033[0m')\n",
    "dates = date_high_low\n",
    "values = range(len(dates))\n",
    "plt.figure(figsize=(15, 8))\n",
    "plt.plot(values, res_low, \"b\", marker=\"o\")\n",
    "plt.xticks(values,dates)\n",
    "plt.xticks(rotation=45)\n",
    "plt.grid(True)\n",
    "plt.title(\"The lowest temperature on my birthday\")\n",
    "plt.show()\n",
    "\n",
    "# plt.plot(res_high)\n",
    "# plt.show()\n",
    "\n",
    "# plt.plot(res_low)\n",
    "# plt.show()\n"
   ]
  },
  {
   "cell_type": "code",
   "execution_count": null,
   "metadata": {
    "collapsed": true
   },
   "outputs": [],
   "source": []
  }
 ],
 "metadata": {
  "kernelspec": {
   "display_name": "Python 3",
   "language": "python",
   "name": "python3"
  },
  "language_info": {
   "codemirror_mode": {
    "name": "ipython",
    "version": 3
   },
   "file_extension": ".py",
   "mimetype": "text/x-python",
   "name": "python",
   "nbconvert_exporter": "python",
   "pygments_lexer": "ipython3",
   "version": "3.6.2"
  }
 },
 "nbformat": 4,
 "nbformat_minor": 2
}
